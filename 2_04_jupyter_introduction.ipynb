{
  "cells": [
    {
      "cell_type": "markdown",
      "metadata": {
        "id": "view-in-github",
        "colab_type": "text"
      },
      "source": [
        "<a href=\"https://colab.research.google.com/github/TomasMendozaHN/OpenCV-AI-KIT/blob/main/2_04_jupyter_introduction.ipynb\" target=\"_parent\"><img src=\"https://colab.research.google.com/assets/colab-badge.svg\" alt=\"Open In Colab\"/></a>"
      ]
    },
    {
      "cell_type": "markdown",
      "metadata": {
        "id": "Ztc8wnwXIUOl"
      },
      "source": [
        "# Introduction to Jupyter\n",
        "\n",
        "***\n",
        "\n",
        "## _\"Jupyter is data scientists’ computational notebook of choice\"_\n",
        "\n",
        "\n",
        "\n",
        "<img src=\"data/images/jupyter.png\" alt=\"jupyter\" style=\"width: 500px;\"/>"
      ]
    },
    {
      "cell_type": "markdown",
      "metadata": {
        "id": "fDMyvKEJIUOn"
      },
      "source": [
        "### Jupyter Documnetation https://jupyter.org/\n",
        "\n",
        "\n",
        "- Allows you to write **markdown**\n",
        "- Which is a fancy way of documenting your analysis as you go\n",
        "- It allows you to tell stories as with your `code`\n",
        "- Jupyter is named after the data languages it was designed for: [Ju](https://julialang.org/)(lia)[Py](https://www.python.org/)(thon)[R](https://www.r-project.org/)\n",
        "\n",
        "### Some useful keyboard shortcuts\n",
        "- `control + ⏎` to run current cell*\n",
        "- `⇧ + ⏎` to run the current cell and progress\n",
        "- You can find the full list under the `Help` menu\n",
        "\n",
        "*A cell is one of the gray panels below. Make sure you've clicked on the cell before you run any of the shortcuts."
      ]
    },
    {
      "cell_type": "code",
      "execution_count": null,
      "metadata": {
        "id": "Q3PEtIt7IUOn"
      },
      "outputs": [],
      "source": [
        "# You can write code here and it runs in Python\n",
        "print('hello')\n",
        "print(1 + 3)"
      ]
    },
    {
      "cell_type": "markdown",
      "metadata": {
        "id": "DN11A99CIUOo"
      },
      "source": [
        "# [Q1] What will happen here?"
      ]
    },
    {
      "cell_type": "code",
      "execution_count": null,
      "metadata": {
        "id": "R4zGdCdvIUOp"
      },
      "outputs": [],
      "source": [
        "for i in range(10):\n",
        "    print(i * 2)"
      ]
    },
    {
      "cell_type": "markdown",
      "metadata": {
        "id": "UMsHS5RuIUOq"
      },
      "source": [
        "# [Q2] What will happen here?"
      ]
    },
    {
      "cell_type": "code",
      "execution_count": null,
      "metadata": {
        "id": "Cw5Q3kzYIUOq"
      },
      "outputs": [],
      "source": [
        "a = 'Code First Girls'\n",
        "a.upper().split(' ')"
      ]
    },
    {
      "cell_type": "markdown",
      "metadata": {
        "id": "WgJMQIrwIUOq"
      },
      "source": [
        "# Jupyter allows you to use Python like a calculator\n",
        "<img src=https://cdn.officestationery.co.uk/products/415592-99226-500/casio-desktop-calculator-12-digit-4-key-memory-batterysolar-power-151x32x158mm-black-ref-dh12ter.jpg width=100>\n",
        "\n",
        "- Your last result is saved\n",
        "- You can show your working\n",
        "- This allows you to reproduce your working"
      ]
    },
    {
      "cell_type": "code",
      "execution_count": null,
      "metadata": {
        "id": "4hIvjkDRIUOq"
      },
      "outputs": [],
      "source": [
        "my_name = 'Olya'"
      ]
    },
    {
      "cell_type": "code",
      "execution_count": null,
      "metadata": {
        "id": "a5hUjCW8IUOs"
      },
      "outputs": [],
      "source": [
        "print('My name is ' + my_name)"
      ]
    },
    {
      "cell_type": "markdown",
      "metadata": {
        "id": "-cjWrS7OIUOs"
      },
      "source": [
        "# But this can cause problems..."
      ]
    },
    {
      "cell_type": "code",
      "execution_count": null,
      "metadata": {
        "id": "bJf-jY9MIUOt"
      },
      "outputs": [],
      "source": [
        "my_name = 'Maria'"
      ]
    },
    {
      "cell_type": "markdown",
      "metadata": {
        "id": "MD3RSnbEIUOt"
      },
      "source": [
        "## You may know about the regular `help` function provided by regular Python\n",
        "\n",
        "- If you run `help(some_function)` [Note the lack of brackets], it will show you:\n",
        "    - The parameters needed (just `number` in this case)\n",
        "    - The little comment provided, known as a 'docstring', which is a description of the function's behaviour"
      ]
    },
    {
      "cell_type": "code",
      "execution_count": null,
      "metadata": {
        "tags": [],
        "id": "qVqmuZLjIUOu"
      },
      "outputs": [],
      "source": [
        "help(sum)"
      ]
    },
    {
      "cell_type": "markdown",
      "metadata": {
        "id": "fRXZgJOWIUOu"
      },
      "source": [
        "# Jupyter takes this a bit further...\n",
        "You can just put a `?` before what you're working on to get help"
      ]
    },
    {
      "cell_type": "code",
      "execution_count": null,
      "metadata": {
        "id": "JqVnSUVkIUOu"
      },
      "outputs": [],
      "source": [
        "?sum"
      ]
    },
    {
      "cell_type": "markdown",
      "metadata": {
        "id": "PwD41FX8IUOv"
      },
      "source": [
        "Or, even cooler... run `⇧` + `TAB` whilst writing the function\n",
        "\n",
        "> This becomes super useful later as it saves you remembering where things go...\n",
        "\n",
        "# [Q3] Show function hint:\n",
        "- Get the help message from Python using the command below"
      ]
    },
    {
      "cell_type": "code",
      "execution_count": null,
      "metadata": {
        "id": "FTYzxmmiIUOv"
      },
      "outputs": [],
      "source": [
        "sum( # Put your cursor between the brackets and press ⇧ + TAB"
      ]
    },
    {
      "cell_type": "markdown",
      "metadata": {
        "id": "NyQeiJolIUOv"
      },
      "source": [
        "# Jupyter is used in actual science\n",
        "\n",
        "In April 2019, **Katie Bouman** and her team developed a technique which allows us to see a picture of a Black Holes for first time. They achieved this using open source parts of the Python data science toolbox such as **Jupyter**, **Pandas** and **Matplotlib**. We will cover these libraries during our course too!\n",
        "\n",
        "<table><tr>\n",
        "<td> <img src=https://i.redd.it/7fhncejghhr21.jpg width=250> </td>\n",
        "<td> <img src=https://scx2.b-cdn.net/gfx/news/2019/1-theeventhori.jpg width=430 </td>\n",
        "</tr></table>\n",
        "\n"
      ]
    },
    {
      "cell_type": "markdown",
      "metadata": {
        "id": "v2Ll0bGxIUOw"
      },
      "source": [
        "# [Q4] Write your name as a level 2 header"
      ]
    },
    {
      "cell_type": "code",
      "execution_count": null,
      "metadata": {
        "id": "swPYKvjPIUOw"
      },
      "outputs": [],
      "source": [
        "#Use any one of these cheat sheets:\n",
        "\n",
        "# https://github.com/adam-p/markdown-here/wiki/Markdown-Cheatsheet\n",
        "# https://ingeh.medium.com/markdown-for-jupyter-notebooks-cheatsheet-386c05aeebed"
      ]
    },
    {
      "cell_type": "markdown",
      "metadata": {
        "id": "hGsUFBIEIUOw"
      },
      "source": [
        "# [Q5] List out some of the concepts you've learnt today as bullet points"
      ]
    },
    {
      "cell_type": "code",
      "execution_count": null,
      "metadata": {
        "id": "yprm2lu1IUOx"
      },
      "outputs": [],
      "source": []
    }
  ],
  "metadata": {
    "kernelspec": {
      "display_name": "Python 3 (ipykernel)",
      "language": "python",
      "name": "python3"
    },
    "language_info": {
      "codemirror_mode": {
        "name": "ipython",
        "version": 3
      },
      "file_extension": ".py",
      "mimetype": "text/x-python",
      "name": "python",
      "nbconvert_exporter": "python",
      "pygments_lexer": "ipython3",
      "version": "3.10.7"
    },
    "colab": {
      "provenance": [],
      "include_colab_link": true
    }
  },
  "nbformat": 4,
  "nbformat_minor": 0
}